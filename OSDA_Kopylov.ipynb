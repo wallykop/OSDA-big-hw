{
  "cells": [
    {
      "cell_type": "code",
      "source": [
        "import pandas as pd\n",
        "import numpy as np\n",
        "from sklearn.metrics import f1_score, accuracy_score, precision_score, recall_score\n",
        "from sklearn.model_selection import StratifiedKFold\n",
        "from sklearn.linear_model import LogisticRegression\n",
        "from sklearn.naive_bayes import GaussianNB\n",
        "import random\n",
        "import copy"
      ],
      "metadata": {
        "id": "nVr1QsyPaeUG"
      },
      "execution_count": null,
      "outputs": []
    },
    {
      "cell_type": "code",
      "source": [
        "df_test = pd.read_csv('test1.csv', sep=',')\n",
        "df_train = pd.read_csv('train1.csv', sep=',')"
      ],
      "metadata": {
        "id": "1TqgU3O7aewe"
      },
      "execution_count": null,
      "outputs": []
    },
    {
      "cell_type": "code",
      "source": [
        "def encode_categorical(data):\n",
        "    result_data = copy.deepcopy(data)\n",
        "    for column in data.columns.values:\n",
        "        result_data = pd.concat([result_data, pd.get_dummies(result_data[column], prefix = column, prefix_sep = ': ')], axis = 1)\n",
        "        result_data.drop([column], axis=1, inplace=True)\n",
        "    return result_data\n"
      ],
      "metadata": {
        "id": "U0m33-dSavFZ"
      },
      "execution_count": null,
      "outputs": []
    },
    {
      "cell_type": "code",
      "source": [
        "def transform_data(name):\n",
        "    df = pd.read_csv(name, sep=',')\n",
        "    df = df.replace(to_replace='positive', value=1)\n",
        "    df = df.replace(to_replace='negative', value=0)\n",
        "    y = np.array(df['V10'])\n",
        "    df.drop(['V10'], axis=1, inplace=True)\n",
        "    bin_df = encode_categorical(df)\n",
        "    return np.array(bin_df).astype(int), y"
      ],
      "metadata": {
        "id": "X3PNdjeman1D"
      },
      "execution_count": null,
      "outputs": []
    },
    {
      "cell_type": "code",
      "source": [
        "X_train, y_train = transform_data('train1.csv')\n",
        "X_test, y_test = transform_data('test1.csv')"
      ],
      "metadata": {
        "id": "PvcWB9Uxawrh"
      },
      "execution_count": null,
      "outputs": []
    },
    {
      "cell_type": "code",
      "source": [
        "X_train_pos = X_train[y_train == 1]\n",
        "X_train_neg = X_train[y_train == 0]"
      ],
      "metadata": {
        "id": "ilF7i51Bazuz"
      },
      "execution_count": null,
      "outputs": []
    },
    {
      "cell_type": "markdown",
      "source": [
        "Algorithm 1: Lazy classification with majority rule"
      ],
      "metadata": {
        "id": "nHhqTtZnEqdv"
      }
    },
    {
      "cell_type": "code",
      "source": [
        "def algorithm1(X_train_pos, X_train_neg, X_test):\n",
        "  y_pred = []\n",
        "  for k in range(len(X_test)):\n",
        "    pos_value=0\n",
        "    neg_value=0\n",
        "\n",
        "    for i in range(len(X_train_pos)):\n",
        "      cnt = 0\n",
        "\n",
        "      desc = X_test[k] == X_train_pos[i]\n",
        "      for j in range(len(X_train_neg)):\n",
        "        intersection_with_other = X_test[k][desc] == X_train_neg[j][desc]\n",
        "        if np.all(intersection_with_other):\n",
        "          cnt+=1\n",
        "      if cnt == 0:\n",
        "        pos_value+=1\n",
        "\n",
        "    for i in range(len(X_train_neg)):\n",
        "      cnt = 0\n",
        "\n",
        "      desc = X_test[k] == X_train_neg[i]\n",
        "      for j in range(len(X_train_pos)):\n",
        "        intersection_with_other = X_test[k][desc] == X_train_pos[j][desc]\n",
        "        if np.all(intersection_with_other):\n",
        "          cnt+=1\n",
        "      if cnt == 0:\n",
        "        neg_value+=1\n",
        "\n",
        "    if pos_value > neg_value:\n",
        "      y_pred.append(1)\n",
        "    elif pos_value < neg_value:\n",
        "      y_pred.append(0)\n",
        "    else:\n",
        "      x = random.randint(0, 9)%2\n",
        "      y_pred.append(x)\n",
        "  return np.array(y_pred)"
      ],
      "metadata": {
        "id": "Ytnwb5wjnR6k"
      },
      "execution_count": null,
      "outputs": []
    },
    {
      "cell_type": "code",
      "source": [
        "y_pred1 = algorithm1(X_train_pos, X_train_neg, X_test)"
      ],
      "metadata": {
        "id": "er_1hI_5nYaN"
      },
      "execution_count": null,
      "outputs": []
    },
    {
      "cell_type": "code",
      "source": [
        "print(f'accuracy: {accuracy_score(y_test, y_pred1)}\\nprecision: {precision_score(y_test, y_pred1)} \\nrecall: {recall_score(y_test, y_pred1)} \\nF1 score: {f1_score(y_test, y_pred1)}')"
      ],
      "metadata": {
        "colab": {
          "base_uri": "https://localhost:8080/"
        },
        "id": "DF_8SebDomaz",
        "outputId": "1cb5711a-3235-481c-9243-39e31e6015cd"
      },
      "execution_count": null,
      "outputs": [
        {
          "output_type": "stream",
          "name": "stdout",
          "text": [
            "accuracy: 0.8279569892473119\n",
            "precision: 0.7922077922077922 \n",
            "recall: 1.0 \n",
            "F1 score: 0.8840579710144928\n"
          ]
        }
      ]
    },
    {
      "cell_type": "markdown",
      "source": [
        "Algorithm 2: Algorithm 1 + normalized comparison"
      ],
      "metadata": {
        "id": "VgbZt2OFEtDO"
      }
    },
    {
      "cell_type": "code",
      "source": [
        "def algorithm2(X_train_pos, X_train_neg, X_test):\n",
        "  y_pred = []\n",
        "  for k in range(len(X_test)):\n",
        "    pos_value=0\n",
        "    neg_value=0\n",
        "\n",
        "    for i in range(len(X_train_pos)):\n",
        "      cnt = 0\n",
        "\n",
        "      desc = X_test[k] == X_train_pos[i]\n",
        "      for j in range(len(X_train_neg)):\n",
        "        intersection_with_other = X_test[k][desc] == X_train_neg[j][desc]\n",
        "        if np.all(intersection_with_other):\n",
        "          cnt+=1\n",
        "      if cnt == 0:\n",
        "        pos_value+=1\n",
        "\n",
        "    for i in range(len(X_train_neg)):\n",
        "      cnt = 0\n",
        "\n",
        "      desc = X_test[k] == X_train_neg[i]\n",
        "      for j in range(len(X_train_pos)):\n",
        "        intersection_with_other = X_test[k][desc] == X_train_pos[j][desc]\n",
        "        if np.all(intersection_with_other):\n",
        "          cnt+=1\n",
        "      if cnt == 0:\n",
        "        neg_value+=1\n",
        "\n",
        "    if pos_value/len(X_train_pos) > neg_value/len(X_train_neg):\n",
        "      y_pred.append(1)\n",
        "    elif pos_value/len(X_train_pos) < neg_value/len(X_train_neg):\n",
        "      y_pred.append(0)\n",
        "    else:\n",
        "      x = random.randint(0, 9)%2\n",
        "      y_pred.append(x)\n",
        "  \n",
        "  return y_pred"
      ],
      "metadata": {
        "id": "kJSFr8acpqAw"
      },
      "execution_count": null,
      "outputs": []
    },
    {
      "cell_type": "code",
      "source": [
        "y_pred2 = algorithm2(X_train_pos, X_train_neg, X_test)"
      ],
      "metadata": {
        "id": "QfvvH0Y3qAhG"
      },
      "execution_count": null,
      "outputs": []
    },
    {
      "cell_type": "code",
      "source": [
        "print(f'accuracy: {accuracy_score(y_test, y_pred2)}\\nprecision: {precision_score(y_test, y_pred2)} \\nrecall: {recall_score(y_test, y_pred2)} \\nF1 score: {f1_score(y_test, y_pred2)}')"
      ],
      "metadata": {
        "colab": {
          "base_uri": "https://localhost:8080/"
        },
        "id": "ZQY5-Zr6qDM0",
        "outputId": "a9e4dc75-f8b2-4bba-d0fb-4d9f84dd2b16"
      },
      "execution_count": null,
      "outputs": [
        {
          "output_type": "stream",
          "name": "stdout",
          "text": [
            "accuracy: 0.8602150537634409\n",
            "precision: 0.875 \n",
            "recall: 0.9180327868852459 \n",
            "F1 score: 0.8959999999999999\n"
          ]
        }
      ]
    },
    {
      "cell_type": "markdown",
      "source": [
        "Algorithm 3: Algorithm 2 + cardinality of intersection"
      ],
      "metadata": {
        "id": "pDqvviIJqeHX"
      }
    },
    {
      "cell_type": "code",
      "source": [
        "def algorithm3(X_train_pos, X_train_neg, X_test, c):\n",
        "  y_pred = []\n",
        "  for k in range(len(X_test)):\n",
        "    pos_value=0\n",
        "    neg_value=0\n",
        "\n",
        "    for i in range(len(X_train_pos)):\n",
        "      cnt = 0\n",
        "\n",
        "      desc = X_test[k] == X_train_pos[i]\n",
        "      if sum(desc)/len(X_train_pos[i]) > c:\n",
        "        for j in range(len(X_train_neg)):\n",
        "          intersection_with_other = X_test[k][desc] == X_train_neg[j][desc]\n",
        "          if np.all(intersection_with_other):\n",
        "            cnt+=1\n",
        "        if cnt == 0:\n",
        "          pos_value+=1\n",
        "\n",
        "    for i in range(len(X_train_neg)):\n",
        "      cnt = 0\n",
        "      desc = X_test[k] == X_train_neg[i]\n",
        "      if sum(desc)/len(X_train_neg[i]) > c:\n",
        "        for j in range(len(X_train_pos)):\n",
        "          intersection_with_other = X_test[k][desc] == X_train_pos[j][desc]\n",
        "          if np.all(intersection_with_other):\n",
        "            cnt+=1\n",
        "        if cnt == 0:\n",
        "          neg_value+=1\n",
        "\n",
        "    if pos_value/len(X_train_pos) > neg_value/len(X_train_neg):\n",
        "      y_pred.append(1)\n",
        "    elif pos_value/len(X_train_pos) < neg_value/len(X_train_neg):\n",
        "      y_pred.append(0)\n",
        "    else:\n",
        "      x = random.randint(0, 9)%2\n",
        "      y_pred.append(x)\n",
        "  return y_pred"
      ],
      "metadata": {
        "id": "lqwmQw3oqlHv"
      },
      "execution_count": null,
      "outputs": []
    },
    {
      "cell_type": "code",
      "source": [
        "c = np.linspace(0.6, 0.95, 8)\n",
        "for param in c:\n",
        "  y_pred3 = algorithm3(X_train_pos, X_train_neg, X_test, param)\n",
        "  print(f'parameter: {param} \\naccuracy: {accuracy_score(y_test, y_pred3)}\\nprecision: {precision_score(y_test, y_pred3)} \\nrecall: {recall_score(y_test, y_pred3)} \\nF1 score: {f1_score(y_test, y_pred3)}\\n')"
      ],
      "metadata": {
        "colab": {
          "base_uri": "https://localhost:8080/"
        },
        "id": "Ugdvxo5bq3T0",
        "outputId": "3a3ca174-fa0d-4007-dfa7-ab06e06b149d"
      },
      "execution_count": null,
      "outputs": [
        {
          "output_type": "stream",
          "name": "stdout",
          "text": [
            "parameter: 0.6 \n",
            "accuracy: 0.8494623655913979\n",
            "precision: 0.873015873015873 \n",
            "recall: 0.9016393442622951 \n",
            "F1 score: 0.8870967741935485\n",
            "\n",
            "parameter: 0.65 \n",
            "accuracy: 0.8709677419354839\n",
            "precision: 0.9622641509433962 \n",
            "recall: 0.8360655737704918 \n",
            "F1 score: 0.8947368421052632\n",
            "\n",
            "parameter: 0.7 \n",
            "accuracy: 0.8709677419354839\n",
            "precision: 0.9622641509433962 \n",
            "recall: 0.8360655737704918 \n",
            "F1 score: 0.8947368421052632\n",
            "\n",
            "parameter: 0.75 \n",
            "accuracy: 0.8172043010752689\n",
            "precision: 0.9782608695652174 \n",
            "recall: 0.7377049180327869 \n",
            "F1 score: 0.8411214953271028\n",
            "\n",
            "parameter: 0.7999999999999999 \n",
            "accuracy: 0.9354838709677419\n",
            "precision: 1.0 \n",
            "recall: 0.9016393442622951 \n",
            "F1 score: 0.9482758620689655\n",
            "\n",
            "parameter: 0.85 \n",
            "accuracy: 0.9354838709677419\n",
            "precision: 1.0 \n",
            "recall: 0.9016393442622951 \n",
            "F1 score: 0.9482758620689655\n",
            "\n",
            "parameter: 0.8999999999999999 \n",
            "accuracy: 0.4838709677419355\n",
            "precision: 0.6756756756756757 \n",
            "recall: 0.4098360655737705 \n",
            "F1 score: 0.5102040816326531\n",
            "\n",
            "parameter: 0.95 \n",
            "accuracy: 0.5268817204301075\n",
            "precision: 0.660377358490566 \n",
            "recall: 0.5737704918032787 \n",
            "F1 score: 0.6140350877192982\n",
            "\n"
          ]
        }
      ]
    },
    {
      "cell_type": "markdown",
      "source": [
        "Algorithm 4: mean cardinality of 20 most cardinal intersections"
      ],
      "metadata": {
        "id": "4kFm_ZCBEmuu"
      }
    },
    {
      "cell_type": "code",
      "source": [
        "def algorithm4(X_train_pos, X_train_neg, X_test):\n",
        "  y_pred = []\n",
        "  for k in range(len(X_test)):\n",
        "    pos_context=0\n",
        "    pos = []\n",
        "    neg_context=0\n",
        "    neg = []\n",
        "\n",
        "    for i in range(len(X_train_pos)):\n",
        "      desc = sum(X_test[k] == X_train_pos[i])\n",
        "      pos.append(desc)\n",
        "\n",
        "    for i in range(len(X_train_neg)):\n",
        "      desc = sum(X_test[k] == X_train_neg[i])\n",
        "      neg.append(desc)\n",
        "\n",
        "\n",
        "    mean_pos = sum(sorted(pos, reverse=True)[:20])/15\n",
        "    mean_neg = sum(sorted(neg, reverse=True)[:20])/15\n",
        "\n",
        "    if mean_pos > mean_neg:\n",
        "      y_pred.append(1)\n",
        "    elif mean_pos < mean_neg:\n",
        "      y_pred.append(0)\n",
        "    else:\n",
        "      x = random.randint(0, 9)%2\n",
        "      y_pred.append(x)\n",
        "  return(y_pred)"
      ],
      "metadata": {
        "id": "CRerdkAgr4tA"
      },
      "execution_count": null,
      "outputs": []
    },
    {
      "cell_type": "code",
      "source": [
        "y_pred4 = algorithm4(X_train_pos, X_train_neg, X_test)"
      ],
      "metadata": {
        "id": "GL1-4Wur2M-m"
      },
      "execution_count": null,
      "outputs": []
    },
    {
      "cell_type": "code",
      "source": [
        "print(f'accuracy: {accuracy_score(y_test, y_pred4)}\\nprecision: {precision_score(y_test, y_pred4)} \\nrecall: {recall_score(y_test, y_pred4)} \\nF1 score: {f1_score(y_test, y_pred4)}')"
      ],
      "metadata": {
        "colab": {
          "base_uri": "https://localhost:8080/"
        },
        "id": "sYlb1SVg2Yvx",
        "outputId": "0ed3d6cc-0346-429f-b159-ed7354da9698"
      },
      "execution_count": null,
      "outputs": [
        {
          "output_type": "stream",
          "name": "stdout",
          "text": [
            "accuracy: 1.0\n",
            "precision: 1.0 \n",
            "recall: 1.0 \n",
            "F1 score: 1.0\n"
          ]
        }
      ]
    },
    {
      "cell_type": "markdown",
      "source": [
        "5-fold training"
      ],
      "metadata": {
        "id": "o4zGT2DrGX92"
      }
    },
    {
      "cell_type": "code",
      "source": [
        "df_test = pd.read_csv('test4.csv', sep=',')\n",
        "df_train = pd.read_csv('train4.csv', sep=',')"
      ],
      "metadata": {
        "id": "q9jYyLyjbJXD"
      },
      "execution_count": null,
      "outputs": []
    },
    {
      "cell_type": "code",
      "source": [
        "skf = StratifiedKFold(n_splits=5, shuffle=True)\n",
        "skf.get_n_splits(X_train, y_train)"
      ],
      "metadata": {
        "colab": {
          "base_uri": "https://localhost:8080/"
        },
        "id": "HIDzr4la5X7q",
        "outputId": "f7a435d0-2483-4006-e82b-744b56bb9b09"
      },
      "execution_count": null,
      "outputs": [
        {
          "output_type": "execute_result",
          "data": {
            "text/plain": [
              "5"
            ]
          },
          "metadata": {},
          "execution_count": 277
        }
      ]
    },
    {
      "cell_type": "code",
      "source": [
        "i = 1\n",
        "for train_i, test_i in skf.split(X_train, y_train):\n",
        "  X_train_, X_test_ = X_train[train_i], X_train[test_i]\n",
        "  y_train_, y_test_ = y_train[train_i], y_train[test_i]\n",
        "  X_train_pos = X_train_[y_train_ == 1]\n",
        "  X_train_neg = X_train_[y_train_ == 0]\n",
        "  y_pred = algorithm1(X_train_pos, X_train_neg, X_test_)\n",
        "  print(f'fold: {i}\\naccuracy: {accuracy_score(y_test_, y_pred)}\\nprecision: {precision_score(y_test_, y_pred)} \\nrecall: {recall_score(y_test_, y_pred)} \\nF1 score: {f1_score(y_test_, y_pred)}\\n')\n",
        "  i+=1"
      ],
      "metadata": {
        "colab": {
          "base_uri": "https://localhost:8080/"
        },
        "id": "AQXYFihS-FXq",
        "outputId": "b416cdb3-69fa-47f5-8454-8e1c59414174"
      },
      "execution_count": null,
      "outputs": [
        {
          "output_type": "stream",
          "name": "stdout",
          "text": [
            "fold: 1\n",
            "accuracy: 0.7745664739884393\n",
            "precision: 0.743421052631579 \n",
            "recall: 1.0 \n",
            "F1 score: 0.8528301886792453\n",
            "\n",
            "fold: 2\n",
            "accuracy: 0.7803468208092486\n",
            "precision: 0.7483443708609272 \n",
            "recall: 1.0 \n",
            "F1 score: 0.8560606060606061\n",
            "\n",
            "fold: 3\n",
            "accuracy: 0.7572254335260116\n",
            "precision: 0.7290322580645161 \n",
            "recall: 1.0 \n",
            "F1 score: 0.8432835820895522\n",
            "\n",
            "fold: 4\n",
            "accuracy: 0.7687861271676301\n",
            "precision: 0.738562091503268 \n",
            "recall: 1.0 \n",
            "F1 score: 0.849624060150376\n",
            "\n",
            "fold: 5\n",
            "accuracy: 0.7572254335260116\n",
            "precision: 0.7290322580645161 \n",
            "recall: 1.0 \n",
            "F1 score: 0.8432835820895522\n",
            "\n"
          ]
        }
      ]
    },
    {
      "cell_type": "code",
      "source": [
        "i = 1\n",
        "for train_i, test_i in skf.split(X_train, y_train):\n",
        "  X_train_, X_test_ = X_train[train_i], X_train[test_i]\n",
        "  y_train_, y_test_ = y_train[train_i], y_train[test_i]\n",
        "  X_train_pos = X_train_[y_train_ == 1]\n",
        "  X_train_neg = X_train_[y_train_ == 0]\n",
        "  y_pred = algorithm2(X_train_pos, X_train_neg, X_test_)\n",
        "  print(f'fold: {i}\\naccuracy: {accuracy_score(y_test_, y_pred)}\\nprecision: {precision_score(y_test_, y_pred)} \\nrecall: {recall_score(y_test_, y_pred)} \\nF1 score: {f1_score(y_test_, y_pred)}\\n')\n",
        "  i+=1"
      ],
      "metadata": {
        "colab": {
          "base_uri": "https://localhost:8080/"
        },
        "id": "ZbpcO9aR__NY",
        "outputId": "355a02ad-3edc-436b-f041-fc2a83fa6ecf"
      },
      "execution_count": null,
      "outputs": [
        {
          "output_type": "stream",
          "name": "stdout",
          "text": [
            "fold: 1\n",
            "accuracy: 0.8554913294797688\n",
            "precision: 0.860655737704918 \n",
            "recall: 0.9292035398230089 \n",
            "F1 score: 0.8936170212765957\n",
            "\n",
            "fold: 2\n",
            "accuracy: 0.8554913294797688\n",
            "precision: 0.8384615384615385 \n",
            "recall: 0.9646017699115044 \n",
            "F1 score: 0.8971193415637859\n",
            "\n",
            "fold: 3\n",
            "accuracy: 0.884393063583815\n",
            "precision: 0.8549618320610687 \n",
            "recall: 0.9911504424778761 \n",
            "F1 score: 0.9180327868852459\n",
            "\n",
            "fold: 4\n",
            "accuracy: 0.838150289017341\n",
            "precision: 0.8148148148148148 \n",
            "recall: 0.9734513274336283 \n",
            "F1 score: 0.8870967741935484\n",
            "\n",
            "fold: 5\n",
            "accuracy: 0.8786127167630058\n",
            "precision: 0.8650793650793651 \n",
            "recall: 0.9646017699115044 \n",
            "F1 score: 0.9121338912133892\n",
            "\n"
          ]
        }
      ]
    },
    {
      "cell_type": "code",
      "source": [
        "i = 1\n",
        "for train_i, test_i in skf.split(X_train, y_train):\n",
        "  X_train_, X_test_ = X_train[train_i], X_train[test_i]\n",
        "  y_train_, y_test_ = y_train[train_i], y_train[test_i]\n",
        "  X_train_pos = X_train_[y_train_ == 1]\n",
        "  X_train_neg = X_train_[y_train_ == 0]\n",
        "  y_pred = algorithm3(X_train_pos, X_train_neg, X_test_, 0.85)\n",
        "  print(f'fold: {i}\\naccuracy: {accuracy_score(y_test_, y_pred)}\\nprecision: {precision_score(y_test_, y_pred)} \\nrecall: {recall_score(y_test_, y_pred)} \\nF1 score: {f1_score(y_test_, y_pred)}\\n')\n",
        "  i+=1"
      ],
      "metadata": {
        "colab": {
          "base_uri": "https://localhost:8080/"
        },
        "id": "2UTZlUns5hEW",
        "outputId": "80075a06-e01f-4774-bade-721d8c5443e4"
      },
      "execution_count": null,
      "outputs": [
        {
          "output_type": "stream",
          "name": "stdout",
          "text": [
            "fold: 1\n",
            "accuracy: 0.9826589595375722\n",
            "precision: 1.0 \n",
            "recall: 0.9734513274336283 \n",
            "F1 score: 0.9865470852017937\n",
            "\n",
            "fold: 2\n",
            "accuracy: 0.9653179190751445\n",
            "precision: 1.0 \n",
            "recall: 0.9469026548672567 \n",
            "F1 score: 0.9727272727272728\n",
            "\n",
            "fold: 3\n",
            "accuracy: 0.9653179190751445\n",
            "precision: 1.0 \n",
            "recall: 0.9469026548672567 \n",
            "F1 score: 0.9727272727272728\n",
            "\n",
            "fold: 4\n",
            "accuracy: 0.976878612716763\n",
            "precision: 1.0 \n",
            "recall: 0.9646017699115044 \n",
            "F1 score: 0.9819819819819819\n",
            "\n",
            "fold: 5\n",
            "accuracy: 0.9884393063583815\n",
            "precision: 1.0 \n",
            "recall: 0.9823008849557522 \n",
            "F1 score: 0.9910714285714286\n",
            "\n"
          ]
        }
      ]
    },
    {
      "cell_type": "code",
      "source": [
        "i = 1\n",
        "for train_i, test_i in skf.split(X_train, y_train):\n",
        "  X_train_, X_test_ = X_train[train_i], X_train[test_i]\n",
        "  y_train_, y_test_ = y_train[train_i], y_train[test_i]\n",
        "  X_train_pos = X_train_[y_train_ == 1]\n",
        "  X_train_neg = X_train_[y_train_ == 0]\n",
        "  y_pred = algorithm4(X_train_pos, X_train_neg, X_test_)\n",
        "  print(f'fold: {i}\\naccuracy: {accuracy_score(y_test_, y_pred)}\\nprecision: {precision_score(y_test_, y_pred)} \\nrecall: {recall_score(y_test_, y_pred)} \\nF1 score: {f1_score(y_test_, y_pred)}\\n')\n",
        "  i+=1"
      ],
      "metadata": {
        "colab": {
          "base_uri": "https://localhost:8080/"
        },
        "id": "NcEq8Vb55cwA",
        "outputId": "4d1b4064-330f-43ca-e0d0-79e63a5f601e"
      },
      "execution_count": null,
      "outputs": [
        {
          "output_type": "stream",
          "name": "stdout",
          "text": [
            "fold: 1\n",
            "accuracy: 0.8728323699421965\n",
            "precision: 0.8421052631578947 \n",
            "recall: 0.9911504424778761 \n",
            "F1 score: 0.9105691056910569\n",
            "\n",
            "fold: 2\n",
            "accuracy: 0.8959537572254336\n",
            "precision: 0.8625954198473282 \n",
            "recall: 1.0 \n",
            "F1 score: 0.9262295081967213\n",
            "\n",
            "fold: 3\n",
            "accuracy: 0.930635838150289\n",
            "precision: 0.904 \n",
            "recall: 1.0 \n",
            "F1 score: 0.9495798319327732\n",
            "\n",
            "fold: 4\n",
            "accuracy: 0.9075144508670521\n",
            "precision: 0.8818897637795275 \n",
            "recall: 0.9911504424778761 \n",
            "F1 score: 0.9333333333333333\n",
            "\n",
            "fold: 5\n",
            "accuracy: 0.9248554913294798\n",
            "precision: 0.8968253968253969 \n",
            "recall: 1.0 \n",
            "F1 score: 0.9456066945606695\n",
            "\n"
          ]
        }
      ]
    },
    {
      "cell_type": "markdown",
      "source": [
        "## Classical ML methods:"
      ],
      "metadata": {
        "id": "zN3ur-9eOLMM"
      }
    },
    {
      "cell_type": "markdown",
      "source": [
        "Logistic Regression"
      ],
      "metadata": {
        "id": "fjTPAztGOMs1"
      }
    },
    {
      "cell_type": "code",
      "source": [
        "i = 1\n",
        "for train_i, test_i in skf.split(X_train, y_train):\n",
        "  X_train_, X_test_ = X_train[train_i], X_train[test_i]\n",
        "  y_train_, y_test_ = y_train[train_i], y_train[test_i]\n",
        "  clf = LogisticRegression(random_state=346).fit(X_train_, y_train_)\n",
        "  y_pred = clf.predict(X_test_)\n",
        "  print(f'fold: {i}\\naccuracy: {accuracy_score(y_test_, y_pred)}\\nprecision: {precision_score(y_test_, y_pred)} \\nrecall: {recall_score(y_test_, y_pred)} \\nF1 score: {f1_score(y_test_, y_pred)}\\n')\n",
        "  i+=1"
      ],
      "metadata": {
        "colab": {
          "base_uri": "https://localhost:8080/"
        },
        "id": "91l2qXtclgXn",
        "outputId": "05858249-be83-4768-d2dc-5f416d4fd172"
      },
      "execution_count": null,
      "outputs": [
        {
          "output_type": "stream",
          "name": "stdout",
          "text": [
            "fold: 1\n",
            "accuracy: 0.976878612716763\n",
            "precision: 0.9658119658119658 \n",
            "recall: 1.0 \n",
            "F1 score: 0.9826086956521739\n",
            "\n",
            "fold: 2\n",
            "accuracy: 0.976878612716763\n",
            "precision: 0.9739130434782609 \n",
            "recall: 0.9911504424778761 \n",
            "F1 score: 0.9824561403508772\n",
            "\n",
            "fold: 3\n",
            "accuracy: 0.9710982658959537\n",
            "precision: 0.9736842105263158 \n",
            "recall: 0.9823008849557522 \n",
            "F1 score: 0.9779735682819383\n",
            "\n",
            "fold: 4\n",
            "accuracy: 0.9653179190751445\n",
            "precision: 0.9495798319327731 \n",
            "recall: 1.0 \n",
            "F1 score: 0.9741379310344828\n",
            "\n",
            "fold: 5\n",
            "accuracy: 0.9884393063583815\n",
            "precision: 0.9826086956521739 \n",
            "recall: 1.0 \n",
            "F1 score: 0.9912280701754386\n",
            "\n"
          ]
        }
      ]
    },
    {
      "cell_type": "markdown",
      "source": [
        "Naive Bayes"
      ],
      "metadata": {
        "id": "FWi-H0GFOQOQ"
      }
    },
    {
      "cell_type": "code",
      "source": [
        "i = 1\n",
        "for train_i, test_i in skf.split(X_train, y_train):\n",
        "  X_train_, X_test_ = X_train[train_i], X_train[test_i]\n",
        "  y_train_, y_test_ = y_train[train_i], y_train[test_i]\n",
        "  clf = GaussianNB()\n",
        "  clf.fit(X_train_, y_train_)\n",
        "  y_pred = clf.predict(X_test_)\n",
        "  print(f'fold: {i}\\naccuracy: {accuracy_score(y_test_, y_pred)}\\nprecision: {precision_score(y_test_, y_pred)} \\nrecall: {recall_score(y_test_, y_pred)} \\nF1 score: {f1_score(y_test_, y_pred)}\\n')\n",
        "  i+=1"
      ],
      "metadata": {
        "colab": {
          "base_uri": "https://localhost:8080/"
        },
        "id": "Iie7b2ZnOOPo",
        "outputId": "a33ccfc9-9fc4-49d8-f58c-4a70fb10c67e"
      },
      "execution_count": null,
      "outputs": [
        {
          "output_type": "stream",
          "name": "stdout",
          "text": [
            "fold: 1\n",
            "accuracy: 0.630057803468208\n",
            "precision: 0.7130434782608696 \n",
            "recall: 0.7256637168141593 \n",
            "F1 score: 0.719298245614035\n",
            "\n",
            "fold: 2\n",
            "accuracy: 0.6763005780346821\n",
            "precision: 0.7394957983193278 \n",
            "recall: 0.7787610619469026 \n",
            "F1 score: 0.7586206896551726\n",
            "\n",
            "fold: 3\n",
            "accuracy: 0.6763005780346821\n",
            "precision: 0.7317073170731707 \n",
            "recall: 0.7964601769911505 \n",
            "F1 score: 0.7627118644067795\n",
            "\n",
            "fold: 4\n",
            "accuracy: 0.6647398843930635\n",
            "precision: 0.7272727272727273 \n",
            "recall: 0.7787610619469026 \n",
            "F1 score: 0.752136752136752\n",
            "\n",
            "fold: 5\n",
            "accuracy: 0.7052023121387283\n",
            "precision: 0.7672413793103449 \n",
            "recall: 0.7876106194690266 \n",
            "F1 score: 0.777292576419214\n",
            "\n"
          ]
        }
      ]
    },
    {
      "cell_type": "code",
      "source": [
        ""
      ],
      "metadata": {
        "id": "crxxKs6nORi9"
      },
      "execution_count": null,
      "outputs": []
    }
  ],
  "metadata": {
    "kernelspec": {
      "display_name": "Python 3",
      "language": "python",
      "name": "python3"
    },
    "language_info": {
      "codemirror_mode": {
        "name": "ipython",
        "version": 3
      },
      "file_extension": ".py",
      "mimetype": "text/x-python",
      "name": "python",
      "nbconvert_exporter": "python",
      "pygments_lexer": "ipython3",
      "version": "3.4.3"
    },
    "colab": {
      "name": "Copy of Kopylov.ipynb",
      "provenance": [],
      "collapsed_sections": []
    }
  },
  "nbformat": 4,
  "nbformat_minor": 0
}